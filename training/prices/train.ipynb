{
 "cells": [
  {
   "cell_type": "code",
   "execution_count": 2,
   "metadata": {},
   "outputs": [
    {
     "name": "stderr",
     "output_type": "stream",
     "text": [
      "c:\\Users\\drobi\\OneDrive\\Documents\\GitHub\\bookmate\\.venv\\Lib\\site-packages\\tqdm\\auto.py:21: TqdmWarning: IProgress not found. Please update jupyter and ipywidgets. See https://ipywidgets.readthedocs.io/en/stable/user_install.html\n",
      "  from .autonotebook import tqdm as notebook_tqdm\n"
     ]
    }
   ],
   "source": [
    "import torch\n",
    "import torch.nn as nn\n",
    "import pandas as pd\n",
    "from price_predictor import Model, BookDataset\n",
    "from torch.utils.data import DataLoader\n",
    "from tqdm.auto import tqdm\n",
    "import matplotlib.pyplot as plt"
   ]
  },
  {
   "cell_type": "code",
   "execution_count": 3,
   "metadata": {},
   "outputs": [
    {
     "data": {
      "text/plain": [
       "device(type='cuda')"
      ]
     },
     "execution_count": 3,
     "metadata": {},
     "output_type": "execute_result"
    }
   ],
   "source": [
    "device = torch.device(\"cuda\" if torch.cuda.is_available() else \"cpu\")\n",
    "device"
   ]
  },
  {
   "cell_type": "markdown",
   "metadata": {},
   "source": [
    "## Prepare Data"
   ]
  },
  {
   "cell_type": "code",
   "execution_count": 4,
   "metadata": {},
   "outputs": [],
   "source": [
    "BATCH_SIZE=4\n",
    "df = pd.read_csv('test.csv')\n",
    "\n",
    "device = torch.device(\"cuda\" if torch.cuda.is_available() else \"cpu\")\n",
    "price_model = Model().to(device)\n",
    "price_model.load_state_dict(torch.load(f=\"model.pt\"))\n",
    "\n",
    "convert_to_tensor = lambda column: [[float(x) for x in list.strip(')(][').split(\", \")] for list in df[column].tolist()]\n",
    "train_dataset, test_dataset = BookDataset.train_test_split(convert_to_tensor('details'), convert_to_tensor('prices'), convert_to_tensor('conditions'), df['targets'].tolist(), device=device)\n",
    "train_dataloader = DataLoader(train_dataset, batch_size=BATCH_SIZE)\n",
    "test_dataloader = DataLoader(test_dataset, batch_size=BATCH_SIZE)"
   ]
  },
  {
   "cell_type": "code",
   "execution_count": 5,
   "metadata": {},
   "outputs": [],
   "source": [
    "model = Model().to(device)"
   ]
  },
  {
   "cell_type": "markdown",
   "metadata": {},
   "source": [
    "### Test First Batch"
   ]
  },
  {
   "cell_type": "code",
   "execution_count": 6,
   "metadata": {},
   "outputs": [
    {
     "name": "stdout",
     "output_type": "stream",
     "text": [
      "Expected: tensor([19.3200,  3.2100, 14.0700, 79.5400], device='cuda:0')\n",
      "Actual: tensor([ -740646.0625,   -62330.6602,    -6561.4463, -1332581.6250],\n",
      "       device='cuda:0', grad_fn=<SqueezeBackward0>)\n",
      "torch.Size([4])\n"
     ]
    }
   ],
   "source": [
    "details, prices, conditions, targets = next(iter(test_dataloader))\n",
    "preds = model(details, prices, conditions)\n",
    "print(\"Expected:\", targets)\n",
    "print(\"Actual:\", preds)"
   ]
  },
  {
   "cell_type": "markdown",
   "metadata": {},
   "source": [
    "## Training Loop"
   ]
  },
  {
   "cell_type": "code",
   "execution_count": 7,
   "metadata": {},
   "outputs": [],
   "source": [
    "loss_fn = nn.MSELoss()\n",
    "optimizer = torch.optim.Adam(params=model.parameters(), lr=1e-4)"
   ]
  },
  {
   "cell_type": "code",
   "execution_count": 8,
   "metadata": {},
   "outputs": [
    {
     "name": "stderr",
     "output_type": "stream",
     "text": [
      "100%|██████████| 1000/1000 [00:46<00:00, 21.59it/s]\n"
     ]
    }
   ],
   "source": [
    "epochs=1000\n",
    "train_loss_values = []\n",
    "test_loss_values = []\n",
    "\n",
    "for epoch in tqdm(range(epochs)):\n",
    "    # Training\n",
    "    model.train()\n",
    "    avg_train_loss = 0\n",
    "\n",
    "    for details, prices, conditions, targets in train_dataloader:\n",
    "        pred = model(details, prices, conditions)\n",
    "\n",
    "        loss = loss_fn(pred, targets)\n",
    "        \n",
    "        avg_train_loss += loss.detach().cpu().numpy()\n",
    "\n",
    "        optimizer.zero_grad()\n",
    "        loss.backward()\n",
    "        optimizer.step()\n",
    "\n",
    "    avg_train_loss /= len(train_dataloader)\n",
    "    train_loss_values.append(avg_train_loss)\n",
    "\n",
    "    # Testing\n",
    "    model.eval()\n",
    "    avg_test_loss = 0\n",
    "\n",
    "    with torch.inference_mode():\n",
    "        for details, prices, conditions, targets in test_dataloader:\n",
    "            pred = model(details, prices, conditions)\n",
    "\n",
    "            loss = loss_fn(pred, targets)\n",
    "\n",
    "            avg_test_loss += loss.detach().cpu().numpy()\n",
    "\n",
    "        avg_test_loss /= len(test_dataloader)\n",
    "        test_loss_values.append(avg_test_loss)"
   ]
  },
  {
   "cell_type": "code",
   "execution_count": 9,
   "metadata": {},
   "outputs": [
    {
     "data": {
      "image/png": "[encoded data removed]",
      "text/plain": [
       "<Figure size 1200x600 with 1 Axes>"
      ]
     },
     "metadata": {},
     "output_type": "display_data"
    }
   ],
   "source": [
    "plt.figure(figsize=(12, 6))\n",
    "plt.title(\"Loss\")\n",
    "plt.plot(range(epochs), train_loss_values, label=\"Train\")\n",
    "plt.plot(range(epochs), test_loss_values, label=\"Test\")\n",
    "plt.legend();"
   ]
  },
  {
   "cell_type": "code",
   "execution_count": 10,
   "metadata": {},
   "outputs": [
    {
     "name": "stdout",
     "output_type": "stream",
     "text": [
      "Expected: tensor([19.3200,  3.2100, 14.0700, 79.5400], device='cuda:0')\n",
      "Actual: tensor([30.4309,  3.4816,  6.6434, 92.5246], device='cuda:0',\n",
      "       grad_fn=<SqueezeBackward0>)\n"
     ]
    }
   ],
   "source": [
    "details, prices, conditions, targets = next(iter(test_dataloader))\n",
    "preds = model(details, prices, conditions)\n",
    "print(\"Expected:\", targets)\n",
    "print(\"Actual:\", preds)"
   ]
  }
 ],
 "metadata": {
  "kernelspec": {
   "display_name": ".venv",
   "language": "python",
   "name": "python3"
  },
  "language_info": {
   "codemirror_mode": {
    "name": "ipython",
    "version": 3
   },
   "file_extension": ".py",
   "mimetype": "text/x-python",
   "name": "python",
   "nbconvert_exporter": "python",
   "pygments_lexer": "ipython3",
   "version": "3.11.8"
  }
 },
 "nbformat": 4,
 "nbformat_minor": 2
}
